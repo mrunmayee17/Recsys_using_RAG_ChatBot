{
 "cells": [
  {
   "cell_type": "code",
   "execution_count": 2,
   "id": "a4e7e65b",
   "metadata": {},
   "outputs": [],
   "source": [
    "import pandas as pd\n",
    "import numpy as np\n",
    "import csv\n",
    "import sys\n",
    "\n",
    "from langchain.embeddings import HuggingFaceEmbeddings\n",
    "from langchain.text_splitter import RecursiveCharacterTextSplitter\n",
    "from langchain.document_loaders import TextLoader\n",
    "from langchain.vectorstores import Chroma \n",
    "from langchain.document_loaders.csv_loader import CSVLoader"
   ]
  },
  {
   "cell_type": "code",
   "execution_count": 2,
   "id": "5ce72feb",
   "metadata": {},
   "outputs": [
    {
     "data": {
      "text/plain": [
       "(24716, 18)"
      ]
     },
     "execution_count": 2,
     "metadata": {},
     "output_type": "execute_result"
    }
   ],
   "source": [
    "df = pd.read_csv('/Users/mrunmayeerane/Desktop/progress/Flavors/Merged_sorted_data.csv')\n",
    "df.shape"
   ]
  },
  {
   "cell_type": "code",
   "execution_count": 3,
   "id": "108ccc21",
   "metadata": {},
   "outputs": [
    {
     "name": "stdout",
     "output_type": "stream",
     "text": [
      "CPU times: user 939 ms, sys: 12.1 ms, total: 951 ms\n",
      "Wall time: 953 ms\n"
     ]
    }
   ],
   "source": [
    "%%time\n",
    "# creates a hashmap to aggregate multiple reviews associated with each business.\n",
    "business_data = {}\n",
    "for _, row in df.iterrows():\n",
    "    business_id = row['business_id']\n",
    "    \n",
    "    if business_id not in business_data:\n",
    "       \n",
    "        business_data[business_id] = {\n",
    "            'name': row['name'],\n",
    "            'address': row['address'],\n",
    "            'city': row['city'],\n",
    "            'state': row['state'],\n",
    "            'postal_code': row['postal_code'],\n",
    "            'latitude': row['latitude'],\n",
    "            'longitude': row['longitude'],\n",
    "            'stars_x': [row['stars_x']] if pd.notnull(row['stars_y']) else 0, \n",
    "            'review_count': row['review_count'],\n",
    "            'is_open': row['is_open'],\n",
    "            'attributes': row['attributes'],  \n",
    "            'categories': row['categories'],  \n",
    "            'hours': row['hours'],  \n",
    "            'user_reviews': [row['text']], \n",
    "            'stars_y': [row['stars_y']] if pd.notnull(row['stars_y']) else 0\n",
    "        }\n",
    "    else:\n",
    "        if pd.notnull(row['stars_x']):\n",
    "            business_data[business_id]['stars_x'].append(row['stars_x'])\n",
    "        \n",
    "        if pd.notnull(row['stars_y']):\n",
    "            business_data[business_id]['stars_y'].append(row['stars_y'])\n",
    "       \n",
    "        business_data[business_id]['user_reviews'].append((row['text']))     "
   ]
  },
  {
   "cell_type": "code",
   "execution_count": 4,
   "id": "03bc20ee",
   "metadata": {},
   "outputs": [],
   "source": [
    "# creates a dataframe from hashmap for mapping.\n",
    "aggregated_df = pd.DataFrame.from_dict(business_data, orient='index')"
   ]
  },
  {
   "cell_type": "code",
   "execution_count": null,
   "id": "8b47b5bd",
   "metadata": {},
   "outputs": [],
   "source": [
    "# calculates the mean for business ratings\n",
    "def calculate_mean(stars_list):\n",
    "    if stars_list: \n",
    "        return round(sum(stars_list) / len(stars_list), 2)\n",
    "    else:\n",
    "        return None \n",
    "aggregated_df['stars_x'] = aggregated_df['stars_x'].apply(calculate_mean)\n",
    "aggregated_df['stars_y'] = aggregated_df['stars_y'].apply(calculate_mean)"
   ]
  },
  {
   "cell_type": "code",
   "execution_count": null,
   "id": "40017072",
   "metadata": {},
   "outputs": [],
   "source": [
    "# saving csv file\n",
    "aggregated_df.to_csv('aggregated_data.csv', index=False)"
   ]
  },
  {
   "cell_type": "code",
   "execution_count": null,
   "id": "ecd601ca",
   "metadata": {},
   "outputs": [],
   "source": [
    "# loading csv file and splitting it in to chunks\n",
    "csv.field_size_limit(sys.maxsize)\n",
    "\n",
    "loader =  CSVLoader(file_path = \"/Users/mrunmayeerane/Desktop/progress/Flavors/aggregated_data.csv\")\n",
    "data = loader.load()\n",
    "text_splitter = RecursiveCharacterTextSplitter(chunk_size=1000, chunk_overlap=150)\n",
    "docs = text_splitter.split_documents(data)"
   ]
  },
  {
   "cell_type": "code",
   "execution_count": 4,
   "id": "e7b6270a",
   "metadata": {},
   "outputs": [],
   "source": [
    "# Text embeddings using sentence Transformer for CSV file\n",
    "# !pip install sentence-transformers\n",
    "modelPath = \"sentence-transformers/all-MiniLM-l6-v2\"\n",
    "\n",
    "model_args = {'device':'cpu'}\n",
    "\n",
    "encode_args = {'normalize_embeddings': False}\n",
    "\n",
    "embeddings = HuggingFaceEmbeddings(\n",
    "    model_name=modelPath,     \n",
    "    model_kwargs=model_args, \n",
    "    encode_kwargs=encode_args)"
   ]
  },
  {
   "cell_type": "code",
   "execution_count": null,
   "id": "e468de90",
   "metadata": {},
   "outputs": [],
   "source": [
    "%%time\n",
    "db = Chroma.from_documents(docs, embeddings)"
   ]
  },
  {
   "cell_type": "code",
   "execution_count": 6,
   "id": "38f296e5",
   "metadata": {},
   "outputs": [],
   "source": [
    "query = \"I want to have a vegan food around santa Barbara\""
   ]
  },
  {
   "cell_type": "code",
   "execution_count": null,
   "id": "6487844d",
   "metadata": {},
   "outputs": [],
   "source": [
    "retriever = db.as_retriever(search_type=\"mmr\")\n",
    "results = retriever.get_relevant_documents(query, num_results=7)\n",
    "results"
   ]
  },
  {
   "cell_type": "code",
   "execution_count": null,
   "id": "1946c4a7",
   "metadata": {},
   "outputs": [],
   "source": [
    "%%time\n",
    "db2 = Chroma.from_documents(docs, embeddings, persist_directory=\"./chroma_db_1\")\n",
    "db2.persist()"
   ]
  },
  {
   "cell_type": "code",
   "execution_count": 14,
   "id": "4686a18f",
   "metadata": {},
   "outputs": [],
   "source": [
    "# !pip install chromadb\n",
    "db3 = Chroma(embedding_function= embeddings,persist_directory=\"./chroma_db_1\")\n",
    "result = db3.similarity_search_with_score(query, 5)[::-1]"
   ]
  },
  {
   "cell_type": "code",
   "execution_count": 22,
   "id": "a92270b9-9572-444b-9030-0cbb51d142d2",
   "metadata": {},
   "outputs": [
    {
     "data": {
      "text/plain": [
       "[Document(page_content='name: Farmer Boy\\naddress: 3427 State St\\ncity: Santa Barbara\\nstate: CA\\npostal_code: 93105.0\\nlatitude: 34.4400429\\nlongitude: -119.7373433\\nstars_x: 4.0\\nreview_count: 255\\nis_open: 1', metadata={'row': 416, 'source': '/Users/mrunmayeerane/Desktop/progress/Flavors/aggregated_data.csv'}),\n",
       " Document(page_content=\"name: C'est Cheese\\naddress: 827 Santa Barbara St\\ncity: Santa Barbara\\nstate: CA\\npostal_code: 93103.0\\nlatitude: 34.422317\\nlongitude: -119.698081\\nstars_x: \\nreview_count: 272\\nis_open: 0\", metadata={'row': 946, 'source': '/Users/mrunmayeerane/Desktop/progress/Flavors/aggregated_data.csv'}),\n",
       " Document(page_content='name: Santa Barbara Chicken Ranch\\naddress: 149 N Fairview Ave\\ncity: Goleta\\nstate: CA\\npostal_code: 93117.0\\nlatitude: 34.441799\\nlongitude: -119.832712\\nstars_x: \\nreview_count: 127\\nis_open: 1', metadata={'row': 545, 'source': '/Users/mrunmayeerane/Desktop/progress/Flavors/aggregated_data.csv'}),\n",
       " Document(page_content='name: Santa Barbara Chicken Ranch\\naddress: 2618 De La Vina St\\ncity: Santa Barbara\\nstate: CA\\npostal_code: 93105.0\\nlatitude: 34.4352389\\nlongitude: -119.7245736\\nstars_x: \\nreview_count: 378\\nis_open: 1', metadata={'row': 2216, 'source': '/Users/mrunmayeerane/Desktop/progress/Flavors/aggregated_data.csv'}),\n",
       " Document(page_content='name: Vegan GreenGO\\naddress: 3613 State St\\ncity: Santa Barbara\\nstate: CA\\npostal_code: 93105.0\\nlatitude: 34.440123\\nlongitude: -119.740862\\nstars_x: \\nreview_count: 273\\nis_open: 0', metadata={'row': 4399, 'source': '/Users/mrunmayeerane/Desktop/progress/Flavors/aggregated_data.csv'})]"
      ]
     },
     "execution_count": 22,
     "metadata": {},
     "output_type": "execute_result"
    }
   ],
   "source": [
    "docs = db3.similarity_search(query,5)[::-1]\n",
    "docs"
   ]
  },
  {
   "cell_type": "code",
   "execution_count": 24,
   "id": "6e6e65c5-bb15-4e0f-b74e-cb58378b9021",
   "metadata": {},
   "outputs": [],
   "source": [
    "df_ret = pd.read_csv('/Users/mrunmayeerane/Desktop/progress/Flavors/aggregated_data.csv')"
   ]
  },
  {
   "cell_type": "code",
   "execution_count": 25,
   "id": "f81238a4-ccb0-4d26-b6a4-db4b2c2bc999",
   "metadata": {},
   "outputs": [
    {
     "name": "stdout",
     "output_type": "stream",
     "text": [
      "Business Review:\n",
      "Name: Farmer Boy\n",
      "Address: 3427 State St, Santa Barbara, CA, 93105.0\n",
      "Hours: {'Monday': '0:0-0:0', 'Tuesday': '7:0-14:0', 'Wednesday': '7:0-14:0', 'Thursday': '7:0-14:0', 'Friday': '7:0-14:0', 'Saturday': '7:0-14:0', 'Sunday': '7:0-14:0'}\n",
      "Rating: 3.96 stars\n",
      "\n",
      "Business Review:\n",
      "Name: C'est Cheese\n",
      "Address: 827 Santa Barbara St, Santa Barbara, CA, 93103.0\n",
      "Hours: {'Monday': '0:0-0:0', 'Saturday': '1:0-1:30'}\n",
      "Rating: nan stars\n",
      "\n",
      "Business Review:\n",
      "Name: Santa Barbara Chicken Ranch\n",
      "Address: 149 N Fairview Ave, Goleta, CA, 93117.0\n",
      "Hours: {'Monday': '11:0-21:0', 'Tuesday': '11:0-21:0', 'Wednesday': '11:0-21:0', 'Thursday': '11:0-21:0', 'Friday': '11:0-21:0', 'Saturday': '11:0-21:0', 'Sunday': '11:0-21:0'}\n",
      "Rating: nan stars\n",
      "\n",
      "Business Review:\n",
      "Name: Santa Barbara Chicken Ranch\n",
      "Address: 2618 De La Vina St, Santa Barbara, CA, 93105.0\n",
      "Hours: {'Monday': '11:0-22:0', 'Tuesday': '11:0-22:0', 'Wednesday': '11:0-22:0', 'Thursday': '11:0-22:0', 'Friday': '11:0-22:0', 'Saturday': '11:0-22:0', 'Sunday': '11:0-22:0'}\n",
      "Rating: nan stars\n",
      "\n",
      "Business Review:\n",
      "Name: Vegan GreenGO\n",
      "Address: 3613 State St, Santa Barbara, CA, 93105.0\n",
      "Hours: {'Monday': '0:0-0:0', 'Tuesday': '11:0-20:0', 'Wednesday': '11:0-20:0', 'Thursday': '11:0-20:0', 'Friday': '11:0-20:0', 'Saturday': '12:0-20:0', 'Sunday': '12:0-20:0'}\n",
      "Rating: nan stars\n",
      "\n",
      "You are a smart recommender system, Please provide a recommendation based on this business information.\n",
      "Recommend places from suggested additional context only and from file aggregated_data.csv \n",
      "Do not suggest places on your own\n",
      " Do not mention aggregated_data.csv file in your response and your response must suggest all Business Reviews included in prompt\n"
     ]
    }
   ],
   "source": [
    "from langchain import PromptTemplate\n",
    "\n",
    "# Define the PromptTemplate\n",
    "prompt_template = PromptTemplate(\n",
    "    template=\"\"\"Business Review:\\n\"\"\"\n",
    "              \"\"\"Name: {Name}\\n\"\"\"\n",
    "              \"\"\"Address: {Address}, {City}, {State}, {PostalCode}\\n\"\"\"\n",
    "              \"\"\"Hours: {Hours}\\n\"\"\"\n",
    "              \"\"\"Rating: {Stars} stars\\n\"\"\",\n",
    "    input_variables=[\"Name\", \"Address\", \"City\", \"State\", \"PostalCode\", \"Hours\", \"Stars\"]\n",
    ")\n",
    "\n",
    "combined_reviews = \"\"\n",
    "\n",
    "# Iterate through your documents\n",
    "for i in range(len(docs)):\n",
    "    row_value = docs[i].metadata.get('row', None)\n",
    "\n",
    "    if row_value is not None:\n",
    "        # Extracting data from the DataFrame\n",
    "        data = {\n",
    "            \"Name\": df_ret.iloc[row_value]['name'],\n",
    "            \"Address\": df_ret.iloc[row_value]['address'],\n",
    "            \"City\": df_ret.iloc[row_value]['city'],\n",
    "            \"State\": df_ret.iloc[row_value]['state'],\n",
    "            \"PostalCode\": df_ret.iloc[row_value]['postal_code'],\n",
    "            \"Hours\": df_ret.iloc[row_value]['hours'],\n",
    "            \"Stars\": df_ret.iloc[row_value]['stars_y']\n",
    "        }\n",
    "\n",
    "        # Format the prompt and append to combined_reviews\n",
    "        combined_reviews += prompt_template.format(**data) + \"\\n\"\n",
    "\n",
    "# Append the instruction at the end of the combined reviews\n",
    "final_prompt = combined_reviews + \"You are a smart recommender system, Please provide a recommendation based on this business information.\\nRecommend places from suggested additional context only and from file aggregated_data.csv \\nDo not suggest places on your own\\n Do not mention aggregated_data.csv file in your response and your response must suggest all Business Reviews included in prompt\"\n",
    "\n",
    "print(final_prompt)\n"
   ]
  },
  {
   "cell_type": "code",
   "execution_count": 26,
   "id": "d96ae687-091d-4720-a394-341bfaa9ed0c",
   "metadata": {},
   "outputs": [],
   "source": [
    "import requests\n",
    "def nvidia_api_call(query, api_key, invoke_url, fetch_url_format):\n",
    "    headers = {\n",
    "        \"Authorization\": f\"Bearer {api_key}\",\n",
    "        \"Accept\": \"application/json\",\n",
    "    }\n",
    "\n",
    "    payload = {\n",
    "        \"messages\": [\n",
    "            {\n",
    "                \"content\": query,\n",
    "                \"role\": \"user\"\n",
    "            }\n",
    "        ],\n",
    "        \"temperature\": 0.2,\n",
    "        \"top_p\": 0.7,\n",
    "        \"max_tokens\": 1024,\n",
    "        \"stream\": False\n",
    "    }\n",
    "\n",
    "    session = requests.Session()\n",
    "    response = session.post(invoke_url, headers=headers, json=payload)\n",
    "\n",
    "    while response.status_code == 202:\n",
    "        request_id = response.headers.get(\"NVCF-REQID\")\n",
    "        fetch_url = fetch_url_format + request_id\n",
    "        response = session.get(fetch_url, headers=headers)\n",
    "\n",
    "    response.raise_for_status()\n",
    "    response_body = response.json()\n",
    "    return response_body['choices'][0]['message']['content']"
   ]
  },
  {
   "cell_type": "code",
   "execution_count": 27,
   "id": "f32b6956-e338-4a31-9cb1-d145ee242068",
   "metadata": {},
   "outputs": [],
   "source": [
    "api_key = \"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\"\n",
    "invoke_url = \"https://api.nvcf.nvidia.com/v2/nvcf/pexec/functions/0e349b44-440a-44e1-93e9-abe8dcb27158\"\n",
    "fetch_url_format = \"https://api.nvcf.nvidia.com/v2/nvcf/pexec/status/\""
   ]
  },
  {
   "cell_type": "code",
   "execution_count": 28,
   "id": "9b886b0a-a37c-4c4f-9351-a23eccfd340b",
   "metadata": {},
   "outputs": [
    {
     "name": "stdout",
     "output_type": "stream",
     "text": [
      "Based on the provided business information, I recommend the following places:\n",
      "\n",
      "1. Farmer Boy - Located at 3427 State St, Santa Barbara, CA, 93105, this restaurant has a rating of 3.96 stars and is open from 7:00 AM to 14:00 PM from Monday to Friday, and 7:00 AM to 14:00 PM on Saturday and Sunday.\n",
      "2. Santa Barbara Chicken Ranch - Located at 149 N Fairview Ave, Goleta, CA, 93117, this restaurant has a rating of nan stars and is open from 11:00 AM to 21:00 PM from Monday to Sunday.\n",
      "3. Santa Barbara Chicken Ranch - Located at 2618 De La Vina St, Santa Barbara, CA, 93105, this restaurant has a rating of nan stars and is open from 11:00 AM to 22:00 PM from Monday to Sunday.\n",
      "4. Vegan GreenGO - Located at 3613 State St, Santa Barbara, CA, 93105, this restaurant has a rating of nan stars and is open from 11:00 AM to 20:00 PM from Monday to Friday, and 12:00 PM to 20:00 PM on Saturday and Sunday.\n",
      "\n",
      "I recommend these places based on their ratings and hours of operation, which suggest that they are popular and accessible to visitors. However, please note that the ratings are based on aggregated data and may not reflect the current status of the businesses. It's always a good idea to check for updates and read recent reviews before visiting a place.\n"
     ]
    }
   ],
   "source": [
    "recommendations = nvidia_api_call(final_prompt, api_key, invoke_url, fetch_url_format)\n",
    "print(recommendations)"
   ]
  }
 ],
 "metadata": {
  "kernelspec": {
   "display_name": "Python 3 (ipykernel)",
   "language": "python",
   "name": "python3"
  },
  "language_info": {
   "codemirror_mode": {
    "name": "ipython",
    "version": 3
   },
   "file_extension": ".py",
   "mimetype": "text/x-python",
   "name": "python",
   "nbconvert_exporter": "python",
   "pygments_lexer": "ipython3",
   "version": "3.10.13"
  }
 },
 "nbformat": 4,
 "nbformat_minor": 5
}
